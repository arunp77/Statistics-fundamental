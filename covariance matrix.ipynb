{
 "cells": [
  {
   "cell_type": "markdown",
   "metadata": {},
   "source": [
    "# Covariance matrix \n",
    "\n",
    "The covariance matrix represents the relationships and variability between multiple variables in a dataset. It provides valuable information about how the variables co-vary with each other, whether they move in the same direction or in opposite directions.\n",
    "\n",
    "In simulations, the covariance matrix is commonly used to generate random samples that exhibit similar statistical properties as the original dataset. Here are two main ways in which the covariance matrix is used in simulations:\n",
    "\n",
    "- **Generating Multivariate Normal Distributions:** The covariance matrix is essential for generating random samples from multivariate normal distributions. A multivariate normal distribution is characterized by its mean vector and covariance matrix. By specifying the desired mean values and covariance structure using the covariance matrix, random samples can be generated that mimic the statistical properties of the original dataset. These generated samples can be used for various purposes, such as testing hypotheses, assessing model performance, or exploring different scenarios.\n",
    "\n",
    "- **Monte Carlo Simulations:** In Monte Carlo simulations, the covariance matrix is utilized to generate correlated random variables. By sampling from a multivariate normal distribution with a specific covariance matrix, correlated values can be generated. These simulations are particularly useful when studying the behavior of a system or estimating unknown parameters. By incorporating the covariance matrix, the simulations can capture the dependencies between variables and provide more realistic results.\n",
    "\n",
    "By leveraging the covariance matrix in simulations, it becomes possible to replicate or simulate data that retains the same statistical properties and relationships observed in the original dataset. This allows for exploring different scenarios, analyzing uncertainties, and making informed decisions based on the simulated outcomes."
   ]
  },
  {
   "cell_type": "markdown",
   "metadata": {},
   "source": [
    "### Mathematical Formulation\n",
    "\n",
    "- Given a set of random variables $X_1, X_2, ...., X_n$, each with a mean value ($\\mu_1, \\mu_2, ..., \\mu_n$) and a standard deviation ($\\sigma_1, \\sigma_2, ...., \\sigma_n$), the covariance matrix $\\sum$ is an $n\\times n$ symmetric matrix defined as:\n",
    "\n",
    "$$\n",
    "\\sum =\n",
    "\\begin{bmatrix}\n",
    "\\text{Cov}(X_1, X_1) & \\text{Cov}(X_1, X_2) & \\ldots & \\text{Cov}(X_1, X_n) \\\\\n",
    "\\text{Cov}(X_2, X_1) & \\text{Cov}(X_2, X_2) & \\ldots & \\text{Cov}(X_2, X_n) \\\\\n",
    "\\vdots & \\vdots & \\ddots & \\vdots \\\\\n",
    "\\text{Cov}(X_n, X_1) & \\text{Cov}(X_n, X_2) & \\ldots & \\text{Cov}(X_n, X_n) \\\\\n",
    "\\end{bmatrix}\n",
    "$$\n",
    "\n",
    "- The elements of the covariance matrix represent the covariances between pairs of variables. \n",
    "- The covariance between variables $X_i$ and $X_j$ is given by $\\text{Cov}(X_i, X_j)$, which measures the linear relationship between the variables.\n",
    "- The covariance between $X_i$ and $X_j$ can be calculated using the formula:\n",
    "\n",
    "    $$\\text{Cov}(X_i, X_j) = E[(X_i - \\mu_i)(X_j - \\mu_j)]$$\n",
    "\n",
    "    where $E$ denotes the expected value (mean) operator.\n",
    "\n",
    "- **Note:** To derive the covariance matrix, let's consider two random variables $X$ and $Y$.\n",
    "\n",
    "    - The covariance between $X$ and $Y$ is given by:\n",
    "  \n",
    "    $$\\text{Cov}(X, X) = E[(X - \\mu_X)(Y - \\mu_Y)]$$\n",
    "    Expanding the above expression, we get:\n",
    "    $$\n",
    "    \\begin{align*}\n",
    "    \\text{Cov}(X, Y) & = E[XY - X\\mu_{Y} - Y\\mu_{x} + \\mu_{X}\\mu_{Y}] \\\\\n",
    "            & = E(XY) - E(X\\mu_{Y}) - E(Y\\mu_{X}) + E(\\mu_{X}\\mu_{Y}) \\\\\n",
    "            & = E(XY) - \\mu_{Y}E(X) - \\mu_{X}E(Y) + \\mu_{X}\\mu_{Y}\n",
    "    \\end{align*}\n",
    "    $$\n",
    "    Let's denote the mean of $X$ and $Y$ as $\\mu_X$ and $\\mu_Y$, respectively, and the covariance between $X$ and $Y$ as $\\text{Cov}(X, Y)$. Then, we can express the covariance matrix as:"
   ]
  },
  {
   "cell_type": "markdown",
   "metadata": {},
   "source": [
    "## Importance of covariance matrix\n",
    "\n",
    "The covariance matrix has several important uses in statistics, data analysis, and machine learning:\n",
    "\n",
    "1. **Measure of Relationship:** The covariance matrix provides a measure of the relationship between multiple variables. Positive covariance indicates that the variables tend to move in the same direction, while negative covariance suggests an inverse relationship.\n",
    "\n",
    "2. **Variance and Standard Deviation:** The covariance matrix contains the variances of individual variables along the diagonal elements. The square root of the diagonal elements gives the standard deviation of each variable.\n",
    "\n",
    "3. **Multivariate Normal Distribution:** In multivariate statistics, the covariance matrix is crucial for describing multivariate normal distributions. It characterizes the distribution's shape, orientation, and dispersion.\n",
    "\n",
    "4. **Principal Component Analysis (PCA):** PCA is a dimensionality reduction technique that aims to capture the most significant patterns and variability in a dataset. The covariance matrix is used to determine the principal components, which are orthogonal linear combinations of the original variables.\n",
    "\n",
    "5. **Linear Regression:** In linear regression, the covariance matrix is used to estimate the coefficients of the regression model. It helps in understanding the relationships between the predictors and the response variable and in assessing the statistical significance of the coefficients.\n",
    "\n",
    "6. **Portfolio Theory:** In finance, the covariance matrix plays a vital role in portfolio optimization. It helps in assessing the risk and diversification benefits of combining different assets in an investment portfolio.\n",
    "\n",
    "7. **Machine Learning:** Covariance matrix-based techniques are used in various machine learning algorithms. For example, in Gaussian Naive Bayes, the covariance matrix is used to model the joint probability distribution of features. In anomaly detection algorithms like Mahalanobis distance-based methods, the covariance matrix is used to estimate the data's normal behavior.\n",
    "\n"
   ]
  },
  {
   "cell_type": "code",
   "execution_count": 5,
   "metadata": {},
   "outputs": [],
   "source": [
    "# Example\n",
    "''' \n",
    "to generate 1000 random samples from a multivariate normal distribution with \n",
    "the specified mean vector and covariance matrix. Finally, we calculate the \n",
    "sample mean and sample covariance matrix from the generated samples.\n",
    "'''\n",
    "import numpy as np\n",
    "\n",
    "# Define mean vector and covariance matrix\n",
    "mean = np.array([1, 2, 3])  # Mean values for each variable\n",
    "cov_matrix = np.array([[1, 0.5, 0.2],\n",
    "                       [0.5, 2, 0.7],\n",
    "                       [0.2, 0.7, 3]])  # Covariance matrix\n",
    "\n",
    "# Generate random samples\n",
    "num_samples = 1000\n",
    "samples = np.random.multivariate_normal(mean, cov_matrix, num_samples)"
   ]
  },
  {
   "cell_type": "code",
   "execution_count": 8,
   "metadata": {},
   "outputs": [
    {
     "data": {
      "text/plain": [
       "array([[2.58420809, 1.22145592, 2.36222512],\n",
       "       [0.04496765, 1.50661912, 2.90042915],\n",
       "       [1.53004047, 2.84612934, 1.30889197],\n",
       "       ...,\n",
       "       [3.14177554, 0.50289507, 1.32654185],\n",
       "       [1.18476508, 3.73173457, 4.2904478 ],\n",
       "       [2.21205365, 1.6127218 , 4.807605  ]])"
      ]
     },
     "execution_count": 8,
     "metadata": {},
     "output_type": "execute_result"
    }
   ],
   "source": [
    "samples"
   ]
  },
  {
   "cell_type": "code",
   "execution_count": 9,
   "metadata": {},
   "outputs": [
    {
     "data": {
      "text/plain": [
       "array([1, 2, 3])"
      ]
     },
     "execution_count": 9,
     "metadata": {},
     "output_type": "execute_result"
    }
   ],
   "source": [
    "mean"
   ]
  },
  {
   "cell_type": "code",
   "execution_count": 13,
   "metadata": {},
   "outputs": [
    {
     "name": "stdout",
     "output_type": "stream",
     "text": [
      "Sample Mean: [1.01489746 1.9518071  2.9336716 ]\n",
      "\n",
      "Sample Covariance Matrix:\n",
      "[[0.98420241 0.47107553 0.24961479]\n",
      " [0.47107553 1.88734245 0.72539194]\n",
      " [0.24961479 0.72539194 3.04130146]]\n"
     ]
    }
   ],
   "source": [
    "# Print sample statistics\n",
    "print(\"Sample Mean:\", np.mean(samples, axis=0))\n",
    "print(\"\\nSample Covariance Matrix:\")\n",
    "print(np.cov(samples, rowvar=False))"
   ]
  },
  {
   "cell_type": "code",
   "execution_count": 4,
   "metadata": {},
   "outputs": [
    {
     "name": "stdout",
     "output_type": "stream",
     "text": [
      "Simulation Mean: 2.9920839993485195\n",
      "Simulation Standard Deviation: 0.19408450356219822\n"
     ]
    }
   ],
   "source": [
    "# Monte Carlo simulation example\n",
    "import numpy as np\n",
    "\n",
    "# Define mean vector and covariance matrix\n",
    "mean = np.array([1, 2])  # Mean values for X and Y\n",
    "cov_matrix = np.array([[1, 0.5],\n",
    "                       [0.5, 2]])  # Covariance matrix\n",
    "\n",
    "# Set number of simulations and samples per simulation\n",
    "num_simulations = 1000\n",
    "num_samples = 100\n",
    "\n",
    "# Run Monte Carlo simulations\n",
    "results = []\n",
    "for _ in range(num_simulations):\n",
    "    samples = np.random.multivariate_normal(mean, cov_matrix, num_samples)\n",
    "    # Perform calculations on the samples and store results\n",
    "    simulation_result = np.mean(samples[:, 0]) + np.mean(samples[:, 1])\n",
    "    results.append(simulation_result)\n",
    "\n",
    "# Calculate statistics of the simulation results\n",
    "mean_simulation = np.mean(results)\n",
    "std_simulation = np.std(results)\n",
    "\n",
    "# Print simulation statistics\n",
    "print(\"Simulation Mean:\", mean_simulation)\n",
    "print(\"Simulation Standard Deviation:\", std_simulation)\n"
   ]
  },
  {
   "cell_type": "code",
   "execution_count": 24,
   "metadata": {},
   "outputs": [
    {
     "data": {
      "image/png": "[encoded data removed]",
      "text/plain": [
       "<Figure size 640x480 with 1 Axes>"
      ]
     },
     "metadata": {},
     "output_type": "display_data"
    }
   ],
   "source": [
    "import numpy as np\n",
    "import matplotlib.pyplot as plt\n",
    "\n",
    "# Original Dataset\n",
    "x = np.array([1, 2, 3, 4, 5])  # Independent variable\n",
    "y = np.array([2, 4, 6, 8, 10])  # Dependent variable\n",
    "\n",
    "# Calculate mean and covariance matrix of the original dataset\n",
    "mean = np.array([np.mean(x), np.mean(y)])\n",
    "cov_matrix = np.cov(x, y)\n",
    "\n",
    "# Generate simulated data based on the original dataset properties\n",
    "num_samples = 1000\n",
    "simulated_data = np.random.multivariate_normal(mean, cov_matrix, num_samples).T\n",
    "\n",
    "# Extract simulated x and y values\n",
    "simulated_x = simulated_data[0]\n",
    "simulated_y = simulated_data[1]\n",
    "\n",
    "# Plotting the original and simulated data with modified color and marker\n",
    "plt.scatter(x, y, label='Original Data', color='red', marker='o', s=50, alpha=0.8)\n",
    "plt.scatter(simulated_x, simulated_y, label='Simulated Data', color='blue', marker='s', s=2, alpha=0.5)\n",
    "plt.xlabel('X')\n",
    "plt.ylabel('Y')\n",
    "plt.title('Original and Simulated Data')\n",
    "plt.legend()\n",
    "plt.show()\n"
   ]
  }
 ],
 "metadata": {
  "kernelspec": {
   "display_name": "Python 3",
   "language": "python",
   "name": "python3"
  },
  "language_info": {
   "codemirror_mode": {
    "name": "ipython",
    "version": 3
   },
   "file_extension": ".py",
   "mimetype": "text/x-python",
   "name": "python",
   "nbconvert_exporter": "python",
   "pygments_lexer": "ipython3",
   "version": "3.11.3"
  },
  "orig_nbformat": 4
 },
 "nbformat": 4,
 "nbformat_minor": 2
}
